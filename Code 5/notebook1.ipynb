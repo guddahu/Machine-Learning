{
  "cells": [
    {
      "metadata": {
        "state": "normal"
      },
      "cell_type": "markdown",
      "source": "# Non-linear Transformation"
    },
    {
      "metadata": {
        "state": "normal"
      },
      "cell_type": "markdown",
      "source": "### Basic Setup"
    },
    {
      "metadata": {
        "trusted": false,
        "state": "normal"
      },
      "cell_type": "code",
      "source": "# Import packages\nimport numpy as np\nimport sklearn",
      "execution_count": 1,
      "outputs": []
    },
    {
      "metadata": {
        "trusted": false,
        "state": "normal"
      },
      "cell_type": "code",
      "source": "# For plots\n%matplotlib inline\nimport matplotlib as mpl\nimport matplotlib.pyplot as plt\nmpl.rc('axes', labelsize=14)\nmpl.rc('xtick', labelsize=12)\nmpl.rc('ytick', labelsize=12)",
      "execution_count": 2,
      "outputs": []
    },
    {
      "metadata": {
        "trusted": false,
        "state": "normal"
      },
      "cell_type": "code",
      "source": "# to make this notebook's output stable across runs\nnp.random.seed(42)",
      "execution_count": 3,
      "outputs": []
    },
    {
      "metadata": {
        "state": "graded",
        "id": "sharp_mani",
        "deletable": false,
        "starter_code": "# Generate 100 datapoints (X, y)\n# Generate 100 random numbers X between -3 and +3\n# Generate y as 0.5x^2 + x + 2 + eps\n# where eps is a random number between 0 and 1\n\nm = 100\nX = \ny = ",
        "trusted": false
      },
      "cell_type": "code",
      "source": "# Generate 100 datapoints (X, y)\n# Generate 100 random numbers X between -3 and +3\n# Generate y as 0.5x^2 + x + 2 + eps\n# where eps is a random number between 0 and 1\n\nm = 100\nX = \ny = ",
      "execution_count": null,
      "outputs": []
    },
    {
      "metadata": {
        "trusted": false,
        "state": "normal"
      },
      "cell_type": "code",
      "source": "# Let's visualize the data generated\n# It should look like a parabola\n\nplt.plot(X, y, \"b.\")\nplt.xlabel(\"$x_1$\", fontsize=18)\nplt.ylabel(\"$y$\", rotation=0, fontsize=18)\nplt.axis([-3, 3, 0, 10])\nplt.show()",
      "execution_count": 5,
      "outputs": []
    },
    {
      "metadata": {
        "state": "normal"
      },
      "cell_type": "markdown",
      "source": "# Polynomial Regression"
    },
    {
      "metadata": {
        "state": "graded",
        "id": "able_saga",
        "deletable": false,
        "starter_code": "# Import PolynomialFeatures package from sklearn\n\n",
        "trusted": false
      },
      "cell_type": "code",
      "source": "# Import PolynomialFeatures package from sklearn\n\n",
      "execution_count": null,
      "outputs": []
    },
    {
      "metadata": {
        "state": "graded",
        "id": "big_nott",
        "deletable": false,
        "starter_code": "# Initialize Polynomical features transformation object with degree 2\n\npoly_features = ",
        "trusted": false
      },
      "cell_type": "code",
      "source": "# Initialize Polynomical features transformation object with degree 2\n\npoly_features = ",
      "execution_count": null,
      "outputs": []
    },
    {
      "metadata": {
        "state": "graded",
        "id": "high_mani",
        "deletable": false,
        "starter_code": "# Transform the generated points X to degree 2 polynomial\n\nX_poly = ",
        "trusted": false
      },
      "cell_type": "code",
      "source": "# Transform the generated points X to degree 2 polynomial\n\nX_poly = ",
      "execution_count": null,
      "outputs": []
    },
    {
      "metadata": {
        "state": "graded",
        "id": "stoic_vali",
        "deletable": false,
        "starter_code": "# Lets see the value of X[0] and its transformed X_poly[0]",
        "trusted": false
      },
      "cell_type": "code",
      "source": "# Lets see the value of X[0] and its transformed X_poly[0]",
      "execution_count": null,
      "outputs": []
    },
    {
      "metadata": {
        "state": "graded",
        "id": "spicy_ullr",
        "deletable": false,
        "starter_code": "# Import LinearRegression from sklearn and initialize its object\n\nfrom sklearn.\nlin_reg = ",
        "trusted": false
      },
      "cell_type": "code",
      "source": "# Import LinearRegression from sklearn and initialize its object\n\nfrom sklearn.\nlin_reg = ",
      "execution_count": null,
      "outputs": []
    },
    {
      "metadata": {
        "state": "graded",
        "id": "red_sif",
        "deletable": false,
        "starter_code": "# Fit the transformed polynomial features X_poly and values y\n\nlin_reg.",
        "trusted": false
      },
      "cell_type": "code",
      "source": "# Fit the transformed polynomial features X_poly and values y\n\nlin_reg.",
      "execution_count": null,
      "outputs": []
    },
    {
      "metadata": {
        "state": "graded",
        "id": "blue_mimir",
        "deletable": false,
        "starter_code": "# Lets see the intercept and coefficients of the learned model\n\n",
        "trusted": false
      },
      "cell_type": "code",
      "source": "# Lets see the intercept and coefficients of the learned model\n\n",
      "execution_count": null,
      "outputs": []
    },
    {
      "metadata": {
        "state": "graded",
        "id": "spicy_odin",
        "deletable": false,
        "starter_code": "# Generate 100 new datapoints X_new between -3 and +3\n# Transform into degree 2 polynomial X_new_poly\n# Predict the y_new values using the fitted model\n\nX_new=\nX_new_poly = \ny_new = ",
        "trusted": false
      },
      "cell_type": "code",
      "source": "# Generate 100 new datapoints X_new between -3 and +3\n# Transform into degree 2 polynomial X_new_poly\n# Predict the y_new values using the fitted model\n\nX_new=\nX_new_poly = \ny_new = ",
      "execution_count": null,
      "outputs": []
    },
    {
      "metadata": {
        "trusted": false,
        "state": "normal"
      },
      "cell_type": "code",
      "source": "# Let's visualize the generated data and the learned function\n# You should see a red curve running through the middle of the parabola data \n\nplt.plot(X, y, \"b.\") # plots data\nplt.plot(X_new, y_new, \"r-\", linewidth=2, label=\"Predictions\") # plots function\nplt.xlabel(\"$x_1$\", fontsize=18)\nplt.ylabel(\"$y$\", rotation=0, fontsize=18)\nplt.legend(loc=\"upper left\", fontsize=14)\nplt.axis([-3, 3, 0, 10])\nplt.show()",
      "execution_count": 15,
      "outputs": []
    },
    {
      "metadata": {
        "trusted": false,
        "state": "normal"
      },
      "cell_type": "code",
      "source": "",
      "execution_count": null,
      "outputs": []
    }
  ],
  "metadata": {
    "kernelspec": {
      "name": "python3",
      "display_name": "Python 3",
      "language": "python"
    },
    "language_info": {
      "name": "python",
      "version": "3.7.3",
      "mimetype": "text/x-python",
      "codemirror_mode": {
        "name": "ipython",
        "version": 3
      },
      "pygments_lexer": "ipython3",
      "nbconvert_exporter": "python",
      "file_extension": ".py"
    },
    "mimir": {
      "project_id": "ecd700a6-6a96-4590-b496-06db8c29ad05",
      "last_submission_id": "",
      "data": {}
    },
    "varInspector": {
      "window_display": false,
      "cols": {
        "lenName": 16,
        "lenType": 16,
        "lenVar": 40
      },
      "kernels_config": {
        "python": {
          "library": "var_list.py",
          "delete_cmd_prefix": "del ",
          "delete_cmd_postfix": "",
          "varRefreshCmd": "print(var_dic_list())"
        },
        "r": {
          "library": "var_list.r",
          "delete_cmd_prefix": "rm(",
          "delete_cmd_postfix": ") ",
          "varRefreshCmd": "cat(var_dic_list()) "
        }
      },
      "types_to_exclude": [
        "module",
        "function",
        "builtin_function_or_method",
        "instance",
        "_Feature"
      ]
    }
  },
  "nbformat": 4,
  "nbformat_minor": 2
}