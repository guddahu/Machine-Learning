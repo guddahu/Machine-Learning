{
  "cells": [
    {
      "metadata": {
        "id": "GPZcfoYofkY5",
        "state": "normal"
      },
      "cell_type": "markdown",
      "source": "# **Logistic Regression**\nLogistic Regression can be used to estimate the probability that an instance/sample/example belongs to a particular class. For example, what is the probability that an email is spam? If the estimated probability is greater than 50% (or a given threshold), then the LR model will predict that an instance belongs to that class (the positive class, usually labeled \"1\" or sometimes \"True\"). Otherwise the LR model predicts it does not belong to that class, therefore it belongs to the negative class, usually labeled \"0\". \n\nSimilar to Linear Regression, Logistic Regression computes a weighted sum of the input features (plus a bias term), but instead of outputting the result directly (like linear regression), it outputs the logistic of that result: $\\hat{p} = h_{\\theta}(\\textbf{x}) = \\sigma(\\textbf{x}^T\\theta)$.\n\nThe logistic ($\\sigma(*)$) is a sigmoid function (S-shaped like we saw in class) that will output a number between 0 and 1. Once we estimate the probability $\\hat{p}$ that an instance belongs to the positive class, then we can make the $\\hat{y}$ prediction easily: $\\hat{y} = 0  \\text{ if } \\hat{p} < 0.5 \\text{ or } 1 \\text{ if } \\hat{p} \\geq 0.5$. \n\n**Training and Cost Function**\n\nThe training objective for LR is to set the parameter vector $\\theta$ so that the LR model will estimate high probabilities for positive instances (y = 1) and low probabilities for negative instances (y = 0). This can be expressed with this cost function: $c(\\theta) = -log(\\hat{p}) \\text{ if } y = 1, -log(1 - \\hat{p}) \\text{ if } y = 0$. \n\nThe cost function for the whole training dataset is the average cost over all training instances. This is called the $\\textit{log loss}$: $J(\\theta) = - \\frac{1}{m} \\sum_{i=1}^{m}[y^{(i)}log(\\hat{p^{(i)}}) + (1-y^{(i)})log(1-\\hat{p^{(i)}})]$ and we can solve it using Gradient Descent. "
    },
    {
      "metadata": {
        "state": "normal"
      },
      "cell_type": "markdown",
      "source": "**Basic Setup**"
    },
    {
      "metadata": {
        "id": "srhUThCKcVfg",
        "state": "normal",
        "trusted": false
      },
      "cell_type": "code",
      "source": "# Import packages\nimport numpy as np\nimport sklearn",
      "execution_count": 1,
      "outputs": []
    },
    {
      "metadata": {
        "id": "f_pd-AV2cfzb",
        "state": "normal",
        "trusted": false
      },
      "cell_type": "code",
      "source": "# For plots\n%matplotlib inline\nimport matplotlib as mpl\nimport matplotlib.pyplot as plt\nmpl.rc('axes', labelsize=14)\nmpl.rc('xtick', labelsize=12)\nmpl.rc('ytick', labelsize=12)",
      "execution_count": 2,
      "outputs": []
    },
    {
      "metadata": {
        "id": "wAJiTKiqcjnB",
        "state": "normal",
        "trusted": false
      },
      "cell_type": "code",
      "source": "# To make this notebook's output stable across runs\nnp.random.seed(42)",
      "execution_count": 3,
      "outputs": []
    },
    {
      "metadata": {
        "colab": {
          "base_uri": "https://localhost:8080/",
          "height": 232
        },
        "id": "ZglxCyN1fXi2",
        "outputId": "8189e03f-4b36-462c-ce73-62c98abb2fa7",
        "state": "normal",
        "trusted": false
      },
      "cell_type": "code",
      "source": "# Let's first visualize the logistic function\n\nt = np.linspace(-10, 10, 100)\nsig = 1 / (1 + np.exp(-t))\nplt.figure(figsize=(9, 3))\nplt.plot([-10, 10], [0, 0], \"k-\")\nplt.plot([-10, 10], [0.5, 0.5], \"k:\")\nplt.plot([-10, 10], [1, 1], \"k:\")\nplt.plot([0, 0], [-1.1, 1.1], \"k-\")\nplt.plot(t, sig, \"b-\", linewidth=2, label=r\"$\\sigma(t) = \\frac{1}{1 + e^{-t}}$\")\nplt.xlabel(\"t\")\nplt.legend(loc=\"upper left\", fontsize=20)\nplt.axis([-10, 10, -0.1, 1.1])\nplt.show()",
      "execution_count": 4,
      "outputs": []
    },
    {
      "metadata": {
        "colab": {
          "base_uri": "https://localhost:8080/"
        },
        "id": "0rf6Rjx_f8X8",
        "outputId": "c2bdb518-dc3f-47a9-8afd-503752c2eb37",
        "state": "normal",
        "trusted": false
      },
      "cell_type": "code",
      "source": "# Load the Iris Dataset from Scikit Learn to train and test on\n\nfrom sklearn import datasets\niris = datasets.load_iris()\nlist(iris.keys())",
      "execution_count": 5,
      "outputs": []
    },
    {
      "metadata": {
        "colab": {
          "base_uri": "https://localhost:8080/"
        },
        "id": "krvetgrggFVJ",
        "outputId": "df88d173-ff58-4d22-b50f-362520712e0a",
        "state": "normal",
        "trusted": false
      },
      "cell_type": "code",
      "source": "# Look at the dataset details\n\nprint(iris.DESCR)",
      "execution_count": 6,
      "outputs": []
    },
    {
      "metadata": {
        "id": "6tWw0rImh5OZ",
        "state": "normal"
      },
      "cell_type": "markdown",
      "source": "# Working with only a Single Feature"
    },
    {
      "metadata": {
        "id": "x_A33ni3gMEX",
        "state": "graded",
        "deletable": false,
        "starter_code": "# The data is in iris[\"data\"] and target in iris[\"target\"]\n# For this section, we will work with a single feature 'petal width'\n# which is the last (fourth) feature in iris[\"data\"]\n# We will assign class y=1 if the target's value is 2 and 0 otherwise\n\n# petal width\nX = \n# 1 if Iris virginica, else 0\ny =  ",
        "trusted": false
      },
      "cell_type": "code",
      "source": "# The data is in iris[\"data\"] and target in iris[\"target\"]\n# For this section, we will work with a single feature 'petal width'\n# which is the last (fourth) feature in iris[\"data\"]\n# We will assign class y=1 if the target's value is 2 and 0 otherwise\n\n# petal width\nX = \n# 1 if Iris virginica, else 0\ny =  ",
      "execution_count": null,
      "outputs": []
    },
    {
      "metadata": {
        "colab": {
          "base_uri": "https://localhost:8080/"
        },
        "id": "XrIEndjPgXUP",
        "outputId": "1791f8f2-525a-4fe4-9e9e-adaddb0c93a0",
        "state": "graded",
        "deletable": false,
        "starter_code": "# Import the LogisticRegression class from scikit learn\n\nfrom sklearn.",
        "trusted": false
      },
      "cell_type": "code",
      "source": "# Import the LogisticRegression class from scikit learn\n\nfrom sklearn.",
      "execution_count": null,
      "outputs": []
    },
    {
      "metadata": {
        "state": "graded",
        "id": "able_magni",
        "deletable": false,
        "starter_code": "# Initialize the LogisticRegression class, use lbfgs solver and random state of 42\n\nlog_reg = ",
        "trusted": false
      },
      "cell_type": "code",
      "source": "# Initialize the LogisticRegression class, use lbfgs solver and random state of 42\n\nlog_reg = ",
      "execution_count": null,
      "outputs": []
    },
    {
      "metadata": {
        "state": "graded",
        "id": "high_tyr",
        "deletable": false,
        "starter_code": "# Fit the data\n\nlog_reg.",
        "trusted": false
      },
      "cell_type": "code",
      "source": "# Fit the data\n\nlog_reg.",
      "execution_count": null,
      "outputs": []
    },
    {
      "metadata": {
        "state": "graded",
        "id": "spicy_thor",
        "deletable": false,
        "starter_code": "# Print the estimated coefficients of the learned function\n\n",
        "trusted": false
      },
      "cell_type": "code",
      "source": "# Print the estimated coefficients of the learned function\n\n",
      "execution_count": null,
      "outputs": []
    },
    {
      "metadata": {
        "id": "AYSS0CGVgy9i",
        "state": "graded",
        "deletable": false,
        "starter_code": "# Create new data and predict their classes\n# Create 1000 new datapoints between 0 and 1 and predict their probability using the trained model\n\nX_new = \ny_proba = ",
        "trusted": false
      },
      "cell_type": "code",
      "source": "# Create new data and predict their classes\n# Create 1000 new datapoints between 0 and 1 and predict their probability using the trained model\n\nX_new = \ny_proba = ",
      "execution_count": null,
      "outputs": []
    },
    {
      "metadata": {
        "colab": {
          "base_uri": "https://localhost:8080/",
          "height": 285
        },
        "id": "A5JnCyJtg37p",
        "outputId": "a85849db-ad9d-4ba4-9f88-d02535b3988d",
        "state": "normal",
        "trusted": false
      },
      "cell_type": "code",
      "source": "# Visualize the distribution of the two classes: Iris virginica and Not Iris virginica\n\nplt.plot(X_new, y_proba[:, 1], \"g-\", linewidth=2, label=\"Iris virginica\")\nplt.plot(X_new, y_proba[:, 0], \"b--\", linewidth=2, label=\"Not Iris virginica\")",
      "execution_count": 13,
      "outputs": []
    },
    {
      "metadata": {
        "colab": {
          "base_uri": "https://localhost:8080/",
          "height": 288
        },
        "id": "Ozqw7RgxhX6F",
        "outputId": "fa5c9ac0-0329-419b-e45a-c1ec3c1a927f",
        "state": "normal",
        "trusted": false
      },
      "cell_type": "code",
      "source": "# A more detailed figure\n\nX_new = np.linspace(0, 3, 1000).reshape(-1, 1)\ny_proba = log_reg.predict_proba(X_new)\ndecision_boundary = X_new[y_proba[:, 1] >= 0.5][0]\n\nplt.figure(figsize=(8, 3))\nplt.plot(X[y==0], y[y==0], \"bs\")\nplt.plot(X[y==1], y[y==1], \"g^\")\nplt.plot([decision_boundary, decision_boundary], [-1, 2], \"k:\", linewidth=2)\nplt.plot(X_new, y_proba[:, 1], \"g-\", linewidth=2, label=\"Iris virginica\")\nplt.plot(X_new, y_proba[:, 0], \"b--\", linewidth=2, label=\"Not Iris virginica\")\nplt.text(decision_boundary+0.02, 0.15, \"Decision  boundary\", fontsize=14, color=\"k\", ha=\"center\")\nplt.arrow(decision_boundary, 0.08, -0.3, 0, head_width=0.05, head_length=0.1, fc='b', ec='b')\nplt.arrow(decision_boundary, 0.92, 0.3, 0, head_width=0.05, head_length=0.1, fc='g', ec='g')\nplt.xlabel(\"Petal width (cm)\", fontsize=14)\nplt.ylabel(\"Probability\", fontsize=14)\nplt.legend(loc=\"center left\", fontsize=14)\nplt.axis([0, 3, -0.02, 1.02])\nplt.show()",
      "execution_count": 14,
      "outputs": []
    },
    {
      "metadata": {
        "colab": {
          "base_uri": "https://localhost:8080/"
        },
        "id": "sXC2UtIFhh5X",
        "outputId": "6c53371d-cd68-41a2-c590-cceaa476e5a1",
        "state": "normal",
        "trusted": false
      },
      "cell_type": "code",
      "source": "# Check the decision boundary value\n\ndecision_boundary",
      "execution_count": 15,
      "outputs": []
    },
    {
      "metadata": {
        "colab": {
          "base_uri": "https://localhost:8080/"
        },
        "id": "DiiCGO-VhnAv",
        "outputId": "a8bb8b78-e59b-4eef-c096-2289870c728d",
        "state": "graded",
        "deletable": false,
        "starter_code": "# Prediction on two sides of the boundary, one for value 1.7 and the other for value 1.5\n\nlog_reg.",
        "trusted": false
      },
      "cell_type": "code",
      "source": "# Prediction on two sides of the boundary, one for value 1.7 and the other for value 1.5\n\nlog_reg.",
      "execution_count": null,
      "outputs": []
    },
    {
      "metadata": {
        "id": "DXB5FyZ6h_XL",
        "state": "normal"
      },
      "cell_type": "markdown",
      "source": "# Working with Multiple Features"
    },
    {
      "metadata": {
        "colab": {
          "base_uri": "https://localhost:8080/"
        },
        "id": "ViEXWjRsiDDu",
        "outputId": "ad88e54f-66ff-4bcc-a74f-d428e861834d",
        "state": "graded",
        "deletable": false,
        "starter_code": "# This time, we will work with two features: petal length and petal width\n# which are the 2nd and 3rd features (starting from 0th) in iris[\"data\"]\n# Write code to select those two features in X\n# y remains the same as previous\n\nX = \ny = ",
        "trusted": false
      },
      "cell_type": "code",
      "source": "# This time, we will work with two features: petal length and petal width\n# which are the 2nd and 3rd features (starting from 0th) in iris[\"data\"]\n# Write code to select those two features in X\n# y remains the same as previous\n\nX = \ny = ",
      "execution_count": null,
      "outputs": []
    },
    {
      "metadata": {
        "state": "graded",
        "id": "fit_sif",
        "deletable": false,
        "starter_code": "# Initialize a new LogisticRegression class and fit it with the new data\n\nlog_reg = \nlog_reg.",
        "trusted": false
      },
      "cell_type": "code",
      "source": "# Initialize a new LogisticRegression class and fit it with the new data\n\nlog_reg = \nlog_reg.",
      "execution_count": null,
      "outputs": []
    },
    {
      "metadata": {
        "id": "OpfPSQpniQFU",
        "state": "graded",
        "deletable": false,
        "starter_code": "# Create new two-dimensional data for prediction\n# You should use numpy's meshgrid to create a grid of 2D-points\n# Create 500 points between 2.9 and 7 for x0 and 500 points between 0.8 and 2.7 for x1\n# which are going to be the two features of the new data\n\nx0, x1 = \nX_new = ",
        "trusted": false
      },
      "cell_type": "code",
      "source": "# Create new two-dimensional data for prediction\n# You should use numpy's meshgrid to create a grid of 2D-points\n# Create 500 points between 2.9 and 7 for x0 and 500 points between 0.8 and 2.7 for x1\n# which are going to be the two features of the new data\n\nx0, x1 = \nX_new = ",
      "execution_count": null,
      "outputs": []
    },
    {
      "metadata": {
        "id": "cmtRH3rtiav9",
        "state": "graded",
        "deletable": false,
        "starter_code": "# Predict the class-probabilities assigned to the new data created\n\ny_proba = ",
        "trusted": false
      },
      "cell_type": "code",
      "source": "# Predict the class-probabilities assigned to the new data created\n\ny_proba = ",
      "execution_count": null,
      "outputs": []
    },
    {
      "metadata": {
        "colab": {
          "base_uri": "https://localhost:8080/",
          "height": 286
        },
        "id": "PWcouMK6jaxU",
        "outputId": "3faadcd7-debe-4fbd-868c-2e8ac661d0de",
        "state": "normal",
        "trusted": false
      },
      "cell_type": "code",
      "source": "# Visualization\n\nplt.figure(figsize=(10, 4))\nplt.plot(X[y==0, 0], X[y==0, 1], \"bs\")\nplt.plot(X[y==1, 0], X[y==1, 1], \"g^\")\n\nzz = y_proba[:, 1].reshape(x0.shape)\ncontour = plt.contour(x0, x1, zz, cmap=plt.cm.brg)\n\n\nleft_right = np.array([2.9, 7])\nboundary = -(log_reg.coef_[0][0] * left_right + log_reg.intercept_[0]) / log_reg.coef_[0][1]\n\nplt.clabel(contour, inline=1, fontsize=12)\nplt.plot(left_right, boundary, \"k--\", linewidth=3)\nplt.text(3.5, 1.5, \"Not Iris virginica\", fontsize=14, color=\"b\", ha=\"center\")\nplt.text(6.5, 2.3, \"Iris virginica\", fontsize=14, color=\"g\", ha=\"center\")\nplt.xlabel(\"Petal length\", fontsize=14)\nplt.ylabel(\"Petal width\", fontsize=14)\nplt.axis([2.9, 7, 0.8, 2.7])\nplt.show()",
      "execution_count": 24,
      "outputs": []
    },
    {
      "metadata": {
        "id": "xQBrwlobj9GS",
        "state": "normal"
      },
      "cell_type": "markdown",
      "source": "# Working with Multiple Classes"
    },
    {
      "metadata": {
        "id": "ECt7MZ9pkAcV",
        "state": "graded",
        "deletable": false,
        "starter_code": "# This time, we will still be working with two-dimensional features (same as previous)\n# but with multiple classes. So we will no longer have just 0 and 1 but 0, 1, ..., c classes\n\nX = \ny = ",
        "trusted": false
      },
      "cell_type": "code",
      "source": "# This time, we will still be working with two-dimensional features (same as previous)\n# but with multiple classes. So we will no longer have just 0 and 1 but 0, 1, ..., c classes\n\nX = \ny = ",
      "execution_count": null,
      "outputs": []
    },
    {
      "metadata": {
        "colab": {
          "base_uri": "https://localhost:8080/"
        },
        "id": "v7gcAZQmkGoq",
        "outputId": "2f7438f0-84bb-4430-ce8e-84e2288eb09c",
        "state": "graded",
        "deletable": false,
        "starter_code": "# Initialize a new multi-class solver\n# You should use the multinomial flag for the attribute multi_class\n# Then, fit the new data\n\nsoftmax_reg = \nsoftmax_reg.",
        "trusted": false
      },
      "cell_type": "code",
      "source": "# Initialize a new multi-class solver\n# You should use the multinomial flag for the attribute multi_class\n# Then, fit the new data\n\nsoftmax_reg = \nsoftmax_reg.",
      "execution_count": null,
      "outputs": []
    },
    {
      "metadata": {
        "id": "Ula-cj6KkZ7K",
        "state": "graded",
        "deletable": false,
        "starter_code": "# We will work with the same new data X_new that we created in the previous section\n# Predict the class probabilites and class predictions for X_new\n\ny_proba = \ny_predict = ",
        "trusted": false
      },
      "cell_type": "code",
      "source": "# We will work with the same new data X_new that we created in the previous section\n# Predict the class probabilites and class predictions for X_new\n\ny_proba = \ny_predict = ",
      "execution_count": null,
      "outputs": []
    },
    {
      "metadata": {
        "colab": {
          "base_uri": "https://localhost:8080/",
          "height": 303
        },
        "id": "Mb5F9Ejwkf9i",
        "outputId": "1f3a57fd-0dd1-4c29-f524-3017a813b521",
        "state": "normal",
        "trusted": false
      },
      "cell_type": "code",
      "source": "# Visualize them\n\nplt.figure(figsize=(10, 4))\nplt.plot(X[y==2, 0], X[y==2, 1], \"g^\", label=\"Iris virginica\")\nplt.plot(X[y==1, 0], X[y==1, 1], \"bs\", label=\"Iris versicolor\")\nplt.plot(X[y==0, 0], X[y==0, 1], \"yo\", label=\"Iris setosa\")\n\nplt.xlabel(\"Petal length\", fontsize=14)\nplt.ylabel(\"Petal width\", fontsize=14)\nplt.legend(loc=\"center left\", fontsize=14)",
      "execution_count": null,
      "outputs": []
    },
    {
      "metadata": {
        "colab": {
          "base_uri": "https://localhost:8080/",
          "height": 291
        },
        "id": "bkHdOwSFksch",
        "outputId": "cbc9d94b-4a8e-4d82-f4fb-64866c533202",
        "state": "normal",
        "trusted": false
      },
      "cell_type": "code",
      "source": "# Visualize along with the decision boundaries\n\nzz1 = y_proba[:, 1].reshape(x0.shape)\nzz = y_predict.reshape(x0.shape)\n\nplt.figure(figsize=(10, 4))\nplt.plot(X[y==2, 0], X[y==2, 1], \"g^\", label=\"Iris virginica\")\nplt.plot(X[y==1, 0], X[y==1, 1], \"bs\", label=\"Iris versicolor\")\nplt.plot(X[y==0, 0], X[y==0, 1], \"yo\", label=\"Iris setosa\")\n\nfrom matplotlib.colors import ListedColormap\ncustom_cmap = ListedColormap(['#fafab0','#9898ff','#a0faa0'])\n\nplt.contourf(x0, x1, zz, cmap=custom_cmap)\ncontour = plt.contour(x0, x1, zz1, cmap=plt.cm.brg)\nplt.clabel(contour, inline=1, fontsize=12)\nplt.xlabel(\"Petal length\", fontsize=14)\nplt.ylabel(\"Petal width\", fontsize=14)\nplt.legend(loc=\"center left\", fontsize=14)\nplt.axis([0, 7, 0, 3.5])\nplt.show()",
      "execution_count": null,
      "outputs": []
    },
    {
      "metadata": {
        "colab": {
          "base_uri": "https://localhost:8080/"
        },
        "id": "1XV5yUBTk6qq",
        "outputId": "a75f88b7-a9ec-472f-8a2c-5ea1e747266d",
        "state": "graded",
        "deletable": false,
        "starter_code": "# You can predict class and probabilities for individual data points\n# Predict and print the class and class-probabilities for the point (5, 2)\n\nprint(softmax_reg.)\nprint(softmax_reg.)",
        "trusted": false
      },
      "cell_type": "code",
      "source": "# You can predict class and probabilities for individual data points\n# Predict and print the class and class-probabilities for the point (5, 2)\n\nprint(softmax_reg.)\nprint(softmax_reg.)",
      "execution_count": null,
      "outputs": []
    }
  ],
  "metadata": {
    "kernelspec": {
      "name": "python3",
      "display_name": "Python 3",
      "language": "python"
    },
    "language_info": {
      "name": "python",
      "version": "3.7.3",
      "mimetype": "text/x-python",
      "codemirror_mode": {
        "name": "ipython",
        "version": 3
      },
      "pygments_lexer": "ipython3",
      "nbconvert_exporter": "python",
      "file_extension": ".py"
    },
    "mimir": {
      "project_id": "d161be9a-3b35-4d3d-9d1d-a799bc34232f",
      "last_submission_id": "",
      "data": {}
    },
    "varInspector": {
      "window_display": false,
      "cols": {
        "lenName": 16,
        "lenType": 16,
        "lenVar": 40
      },
      "kernels_config": {
        "python": {
          "library": "var_list.py",
          "delete_cmd_prefix": "del ",
          "delete_cmd_postfix": "",
          "varRefreshCmd": "print(var_dic_list())"
        },
        "r": {
          "library": "var_list.r",
          "delete_cmd_prefix": "rm(",
          "delete_cmd_postfix": ") ",
          "varRefreshCmd": "cat(var_dic_list()) "
        }
      },
      "types_to_exclude": [
        "module",
        "function",
        "builtin_function_or_method",
        "instance",
        "_Feature"
      ]
    }
  },
  "nbformat": 4,
  "nbformat_minor": 2
}