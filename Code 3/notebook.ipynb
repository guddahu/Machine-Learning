{
 "cells": [
  {
   "cell_type": "markdown",
   "metadata": {
    "state": "normal"
   },
   "source": [
    "# Linear Regression\n",
    "\n",
    "### Recap\n",
    "A linear model makes a prediction by computing a weighted sum of the input features and a constant (bias).    \n",
    "Basic linear regression model: $\\hat{y}$ = $\\theta$<sub>0</sub> + $\\theta$<sub>1</sub>x<sub>1</sub> + $\\theta$<sub>2</sub>x<sub>2</sub> + ... + $\\theta$<sub>n</sub>x<sub>n</sub>    \n",
    "* $\\hat{y}$ is the predicted value   \n",
    "* n is the number of features\n",
    "* x<sub>i</sub> is the i<sup>th</sup> feature value\n",
    "* $\\theta$<sub>j</sub> is the j<sup>th</sup> model parameter ($\\theta$<sub>0</sub> is the bias term; $\\theta$<sub>1</sub> .. $\\theta$<sub>n</sub> are the feature weights)   \n",
    "\n",
    "Using linear algebra we can work with this equation in its closed form solution (also called normal equation). Recall the closed form solution for linear regression from class: w* = (X<sup>T</sup>X)<sup>-1</sup> X<sup>T</sup>y\n",
    "\n",
    "We can think of the weights (w*) as the general parameter, $\\theta$: $\\hat{\\theta}$ = (X<sup>T</sup>X)<sup>-1</sup> X<sup>T</sup>y\n",
    "\n",
    "$\\hat{\\theta}$ is the values of $\\theta$ that minimizes the cost function    \n",
    "y is the target vector (i.e., labels or actual y values) \n"
   ]
  },
  {
   "cell_type": "markdown",
   "metadata": {
    "state": "normal"
   },
   "source": [
    "### Part 1: Closed Form Solution"
   ]
  },
  {
   "cell_type": "code",
   "execution_count": 148,
   "metadata": {
    "state": "normal"
   },
   "outputs": [],
   "source": [
    "# Import packages\n",
    "import numpy as np\n",
    "import sklearn"
   ]
  },
  {
   "cell_type": "code",
   "execution_count": 149,
   "metadata": {
    "state": "normal"
   },
   "outputs": [],
   "source": [
    "# For plots\n",
    "%matplotlib inline\n",
    "import matplotlib as mpl\n",
    "import matplotlib.pyplot as plt\n",
    "mpl.rc('axes', labelsize=14)\n",
    "mpl.rc('xtick', labelsize=12)\n",
    "mpl.rc('ytick', labelsize=12)"
   ]
  },
  {
   "cell_type": "code",
   "execution_count": 150,
   "metadata": {
    "state": "normal"
   },
   "outputs": [],
   "source": [
    "# Create linear-like data to test first equation\n",
    "X = 2 * np.random.rand(100, 1)\n",
    "\n",
    "# Function for generating data: y = 4 + 3x_1 + Gaussian noise\n",
    "# So theta0 = 4 & theta1 = 3\n",
    "y = 4 + 3 * X + np.random.randn(100, 1)\n"
   ]
  },
  {
   "cell_type": "code",
   "execution_count": 151,
   "metadata": {
    "state": "normal"
   },
   "outputs": [
    {
     "data": {
      "image/png": "[encoded data removed]",
      "text/plain": [
       "<Figure size 432x288 with 1 Axes>"
      ]
     },
     "metadata": {
      "needs_background": "light"
     },
     "output_type": "display_data"
    }
   ],
   "source": [
    "# Visualize dataset \n",
    "plt.plot(X, y, \"b.\")\n",
    "plt.xlabel(\"$x_1$\", fontsize=18)\n",
    "plt.ylabel(\"$y$\", rotation=0, fontsize=18)\n",
    "plt.axis([0, 2, 0, 15])\n",
    "plt.show()"
   ]
  },
  {
   "cell_type": "code",
   "execution_count": 152,
   "metadata": {
    "state": "normal"
   },
   "outputs": [],
   "source": [
    "# Add x0 = 1 to each instance\n",
    "X2 = np.c_[np.ones((100, 1)), X]"
   ]
  },
  {
   "cell_type": "code",
   "execution_count": 153,
   "metadata": {
    "deletable": false,
    "id": "big_oor",
    "starter_code": "# Use linalg inv & dot to calculate the closed form solution with X2 & y\ntheta_hat = ",
    "state": "graded"
   },
   "outputs": [],
   "source": [
    "# Use linalg inv & dot to calculate the closed form solution with X2 & y (XTX)-1 XTy\n",
    "theta_hat = np.dot(np.linalg.inv(np.dot(X2.T,X2)), np.dot(X2.T, y))"
   ]
  },
  {
   "cell_type": "code",
   "execution_count": 154,
   "metadata": {
    "state": "normal"
   },
   "outputs": [
    {
     "data": {
      "text/plain": [
       "array([[4.16312809],\n",
       "       [2.81644799]])"
      ]
     },
     "execution_count": 154,
     "metadata": {},
     "output_type": "execute_result"
    }
   ],
   "source": [
    "# Print theta_hat\n",
    "theta_hat"
   ]
  },
  {
   "cell_type": "code",
   "execution_count": 155,
   "metadata": {
    "deletable": false,
    "id": "gray_vali",
    "starter_code": "# TODO: Answer in the comments\n# theta_hat should print values around [4.3, 2.8]-ish\n# But theta0 = 4 & theta1 = 3\n# Why couldn't we recover the exact parameters of our original function?\n# Your answer: ",
    "state": "graded"
   },
   "outputs": [],
   "source": [
    "# TODO: Answer in the comments\n",
    "# theta_hat should print values around [4.3, 2.8]-ish\n",
    "# \n",
    "# But theta0 = 4 & theta1 = 3\n",
    "# Why couldn't we recover the exact parameters of our original function?\n",
    "# Your answer: Values of the coefcients determined by  fitting the polynomial to the data and the error for misfits are \n",
    "# minimized by a error function but we cannot estimate the error perfectly"
   ]
  },
  {
   "cell_type": "code",
   "execution_count": 156,
   "metadata": {
    "deletable": false,
    "id": "fit_loki",
    "starter_code": "# Task of the next 3 cells: Make a prediction using theta_hat\n# Create a new dataset (what dimensions should it be?)\nX_new = \n",
    "state": "graded"
   },
   "outputs": [],
   "source": [
    "# Task of the next 3 cells: Make a prediction using theta_hat\n",
    "# Create a new dataset (what dimensions should it be?)\n",
    "X_new =  2 * np.random.rand(100, 1)\n"
   ]
  },
  {
   "cell_type": "code",
   "execution_count": 157,
   "metadata": {
    "deletable": false,
    "id": "calm_magni",
    "starter_code": "# Add x0 = 1 to each instance\nX_new2 = ",
    "state": "graded"
   },
   "outputs": [
    {
     "data": {
      "text/plain": [
       "array([[1.        , 0.48341827],\n",
       "       [1.        , 1.32802919],\n",
       "       [1.        , 1.05866628],\n",
       "       [1.        , 1.96888764],\n",
       "       [1.        , 0.0103493 ],\n",
       "       [1.        , 1.13971706],\n",
       "       [1.        , 1.73064166],\n",
       "       [1.        , 1.97110037],\n",
       "       [1.        , 1.99214531],\n",
       "       [1.        , 0.00500385],\n",
       "       [1.        , 0.60578316],\n",
       "       [1.        , 1.38371385],\n",
       "       [1.        , 1.488135  ],\n",
       "       [1.        , 0.54345637],\n",
       "       [1.        , 1.46835165],\n",
       "       [1.        , 1.40618372],\n",
       "       [1.        , 1.70289219],\n",
       "       [1.        , 0.30770339],\n",
       "       [1.        , 0.06399251],\n",
       "       [1.        , 1.02929621],\n",
       "       [1.        , 0.60704157],\n",
       "       [1.        , 1.90912785],\n",
       "       [1.        , 1.92563142],\n",
       "       [1.        , 1.53266722],\n",
       "       [1.        , 1.36284647],\n",
       "       [1.        , 1.35346619],\n",
       "       [1.        , 0.1917903 ],\n",
       "       [1.        , 1.63560316],\n",
       "       [1.        , 0.25462799],\n",
       "       [1.        , 1.78537523],\n",
       "       [1.        , 1.73307721],\n",
       "       [1.        , 1.07887108],\n",
       "       [1.        , 0.46043898],\n",
       "       [1.        , 1.80616154],\n",
       "       [1.        , 1.14350778],\n",
       "       [1.        , 1.24806346],\n",
       "       [1.        , 0.99656515],\n",
       "       [1.        , 1.30499936],\n",
       "       [1.        , 0.40716836],\n",
       "       [1.        , 0.22169262],\n",
       "       [1.        , 1.33054749],\n",
       "       [1.        , 0.22618   ],\n",
       "       [1.        , 0.91940821],\n",
       "       [1.        , 1.22731909],\n",
       "       [1.        , 0.52449825],\n",
       "       [1.        , 1.13505902],\n",
       "       [1.        , 0.94568407],\n",
       "       [1.        , 0.21077181],\n",
       "       [1.        , 1.46049337],\n",
       "       [1.        , 0.04937284],\n",
       "       [1.        , 1.04854761],\n",
       "       [1.        , 0.96801894],\n",
       "       [1.        , 0.19831713],\n",
       "       [1.        , 1.67973269],\n",
       "       [1.        , 0.16375046],\n",
       "       [1.        , 0.1985501 ],\n",
       "       [1.        , 1.9654441 ],\n",
       "       [1.        , 0.20796186],\n",
       "       [1.        , 0.96712098],\n",
       "       [1.        , 0.53352403],\n",
       "       [1.        , 0.2316134 ],\n",
       "       [1.        , 0.39323068],\n",
       "       [1.        , 1.33036977],\n",
       "       [1.        , 1.24767616],\n",
       "       [1.        , 1.90654755],\n",
       "       [1.        , 0.77669405],\n",
       "       [1.        , 0.13846769],\n",
       "       [1.        , 1.18788489],\n",
       "       [1.        , 1.72317359],\n",
       "       [1.        , 1.32887724],\n",
       "       [1.        , 1.69925487],\n",
       "       [1.        , 1.67431478],\n",
       "       [1.        , 0.11433981],\n",
       "       [1.        , 1.29867919],\n",
       "       [1.        , 0.20932416],\n",
       "       [1.        , 0.26434398],\n",
       "       [1.        , 1.48775804],\n",
       "       [1.        , 1.63699676],\n",
       "       [1.        , 1.47314769],\n",
       "       [1.        , 0.06073073],\n",
       "       [1.        , 1.65139319],\n",
       "       [1.        , 0.74930233],\n",
       "       [1.        , 1.22012122],\n",
       "       [1.        , 0.20600179],\n",
       "       [1.        , 1.96015973],\n",
       "       [1.        , 0.54843343],\n",
       "       [1.        , 1.31393644],\n",
       "       [1.        , 0.83257428],\n",
       "       [1.        , 1.83190112],\n",
       "       [1.        , 1.50985638],\n",
       "       [1.        , 0.60133516],\n",
       "       [1.        , 0.55828269],\n",
       "       [1.        , 1.54405547],\n",
       "       [1.        , 1.09328588],\n",
       "       [1.        , 0.45505508],\n",
       "       [1.        , 1.32840506],\n",
       "       [1.        , 1.40331973],\n",
       "       [1.        , 1.76986646],\n",
       "       [1.        , 1.23103548],\n",
       "       [1.        , 0.59040894]])"
      ]
     },
     "execution_count": 157,
     "metadata": {},
     "output_type": "execute_result"
    }
   ],
   "source": [
    "# Add x0 = 1 to each instance\n",
    "X_new2 = np.c_[np.ones((100, 1)), X_new]\n",
    "X_new2"
   ]
  },
  {
   "cell_type": "code",
   "execution_count": 158,
   "metadata": {
    "deletable": false,
    "id": "red_sol",
    "starter_code": "# Use your model to make a prediction on your new dataset\ny_predict = ",
    "state": "graded"
   },
   "outputs": [],
   "source": [
    "# Use your model to make a prediction on your new dataset\n",
    "y_predict = theta_hat[0][0] + theta_hat[1][0] * X_new"
   ]
  },
  {
   "cell_type": "code",
   "execution_count": 159,
   "metadata": {
    "state": "normal"
   },
   "outputs": [
    {
     "data": {
      "text/plain": [
       "array([[5.5246505 ],\n",
       "       [7.90345324],\n",
       "       [7.14480662],\n",
       "       [9.70839772],\n",
       "       [4.19227635],\n",
       "       [7.37308192],\n",
       "       [9.03739031],\n",
       "       [9.71462976],\n",
       "       [9.77390176],\n",
       "       [4.17722117],\n",
       "       [5.86928487],\n",
       "       [8.06028619],\n",
       "       [8.35438293],\n",
       "       [5.69374471],\n",
       "       [8.29866414],\n",
       "       [8.12357141],\n",
       "       [8.95923539],\n",
       "       [5.02975868],\n",
       "       [4.34335968],\n",
       "       [7.06208733],\n",
       "       [5.87282912],\n",
       "       [9.54008738],\n",
       "       [9.58656884],\n",
       "       [8.4798056 ],\n",
       "       [8.00151429],\n",
       "       [7.97509522],\n",
       "       [4.70329549],\n",
       "       [8.76971933],\n",
       "       [4.88027458],\n",
       "       [9.19154458],\n",
       "       [9.04424991],\n",
       "       [7.20171238],\n",
       "       [5.45993054],\n",
       "       [9.25008815],\n",
       "       [7.38375828],\n",
       "       [7.67823391],\n",
       "       [6.969902  ],\n",
       "       [7.83859092],\n",
       "       [5.30989659],\n",
       "       [4.78751383],\n",
       "       [7.91054591],\n",
       "       [4.80015229],\n",
       "       [6.7525935 ],\n",
       "       [7.61980848],\n",
       "       [5.64035014],\n",
       "       [7.3599628 ],\n",
       "       [6.82659809],\n",
       "       [4.75675593],\n",
       "       [8.2765317 ],\n",
       "       [4.30218414],\n",
       "       [7.1163079 ],\n",
       "       [6.88950311],\n",
       "       [4.72167797],\n",
       "       [8.89400786],\n",
       "       [4.62432273],\n",
       "       [4.72233414],\n",
       "       [9.69869917],\n",
       "       [4.74884185],\n",
       "       [6.88697404],\n",
       "       [5.66577077],\n",
       "       [4.8154552 ],\n",
       "       [5.27064185],\n",
       "       [7.91004535],\n",
       "       [7.67714311],\n",
       "       [9.5328201 ],\n",
       "       [6.3506465 ],\n",
       "       [4.55311513],\n",
       "       [7.50874411],\n",
       "       [9.0163569 ],\n",
       "       [7.90584173],\n",
       "       [8.94899106],\n",
       "       [8.87874859],\n",
       "       [4.48516023],\n",
       "       [7.82079049],\n",
       "       [4.75267869],\n",
       "       [4.90763916],\n",
       "       [8.35332125],\n",
       "       [8.77364433],\n",
       "       [8.31217195],\n",
       "       [4.33417303],\n",
       "       [8.81419113],\n",
       "       [6.27349914],\n",
       "       [7.59953604],\n",
       "       [4.74332142],\n",
       "       [9.68381603],\n",
       "       [5.70776231],\n",
       "       [7.86376175],\n",
       "       [6.50803024],\n",
       "       [9.32258233],\n",
       "       [8.41556005],\n",
       "       [5.8567573 ],\n",
       "       [5.73550225],\n",
       "       [8.51188001],\n",
       "       [7.24231091],\n",
       "       [5.44476705],\n",
       "       [7.90451187],\n",
       "       [8.11550511],\n",
       "       [9.14786493],\n",
       "       [7.63027551],\n",
       "       [5.82598416]])"
      ]
     },
     "execution_count": 159,
     "metadata": {},
     "output_type": "execute_result"
    }
   ],
   "source": [
    "# Print y_predict\n",
    "y_predict"
   ]
  },
  {
   "cell_type": "code",
   "execution_count": 160,
   "metadata": {
    "deletable": false,
    "id": "big_thor",
    "scrolled": true,
    "starter_code": "# Plot your new model's predictions\n# You should see a red line falling mostly in the middle of the blue data points\nplt.plot( , , \"r-\")\n\n# Plots the original data\nplt.plot(X, y, \"b.\")\nplt.axis([0, 2, 0, 15])\nplt.show( )",
    "state": "graded"
   },
   "outputs": [
    {
     "data": {
      "image/png": "[encoded data removed]",
      "text/plain": [
       "<Figure size 432x288 with 1 Axes>"
      ]
     },
     "metadata": {
      "needs_background": "light"
     },
     "output_type": "display_data"
    }
   ],
   "source": [
    "# Plot your new model's predictions\n",
    "# You should see a red line falling mostly in the middle of the blue data points\n",
    "plt.plot(X_new , y_predict, \"r-\")\n",
    "\n",
    "# Plots the original data\n",
    "plt.plot(X, y, \"b.\")\n",
    "plt.axis([0, 2, 0, 15])\n",
    "plt.show( )"
   ]
  },
  {
   "cell_type": "markdown",
   "metadata": {
    "state": "normal"
   },
   "source": [
    "### Part 2: Using Scikit-Learn\n",
    "Scikit-Learn's LinearRegression class is based on scipy.linalg.lstsq() (Least Squares). "
   ]
  },
  {
   "cell_type": "code",
   "execution_count": 46,
   "metadata": {
    "deletable": false,
    "id": "red_ran",
    "starter_code": "# Import the LinearRegression class\nfrom sklearn.",
    "state": "graded"
   },
   "outputs": [],
   "source": [
    "# Import the LinearRegression class\n",
    "from sklearn.linear_model import LinearRegression"
   ]
  },
  {
   "cell_type": "code",
   "execution_count": 47,
   "metadata": {
    "deletable": false,
    "id": "stoic_loki",
    "starter_code": "# Create a LinearRegression instance\nlin_reg = ",
    "state": "graded"
   },
   "outputs": [],
   "source": [
    "# Create a LinearRegression instance\n",
    "lin_reg = LinearRegression()"
   ]
  },
  {
   "cell_type": "code",
   "execution_count": 49,
   "metadata": {
    "deletable": false,
    "id": "sly_boi",
    "starter_code": "# Fit your model\n# NOTE: there is a bug in Windows for this method\n# If you get this error: ValueError: illegal value in 4th argument of internal None\n# Go to the previous cell and create your class instance with the argument: normalize = True\n",
    "state": "graded"
   },
   "outputs": [
    {
     "data": {
      "text/plain": [
       "LinearRegression()"
      ]
     },
     "execution_count": 49,
     "metadata": {},
     "output_type": "execute_result"
    }
   ],
   "source": [
    "# Fit your model\n",
    "# NOTE: there is a bug in Windows for this method\n",
    "# If you get this error: ValueError: illegal value in 4th argument of internal None\n",
    "# Go to the previous cell and create your class instance with the argument: normalize = True\n",
    "lin_reg.fit(X, y)"
   ]
  },
  {
   "cell_type": "code",
   "execution_count": 51,
   "metadata": {
    "deletable": false,
    "id": "red_odin",
    "scrolled": true,
    "starter_code": "# Print the intercept of your model\n",
    "state": "graded"
   },
   "outputs": [
    {
     "data": {
      "text/plain": [
       "array([4.34180333])"
      ]
     },
     "execution_count": 51,
     "metadata": {},
     "output_type": "execute_result"
    }
   ],
   "source": [
    "# Print the intercept of your model\n",
    "lin_reg.intercept_"
   ]
  },
  {
   "cell_type": "code",
   "execution_count": 53,
   "metadata": {
    "deletable": false,
    "id": "big_ran",
    "starter_code": "# Print the estimated coefficients of your model\n",
    "state": "graded"
   },
   "outputs": [
    {
     "data": {
      "text/plain": [
       "array([[2.81164224]])"
      ]
     },
     "execution_count": 53,
     "metadata": {},
     "output_type": "execute_result"
    }
   ],
   "source": [
    "# Print the estimated coefficients of your model\n",
    "lin_reg.coef_"
   ]
  },
  {
   "cell_type": "code",
   "execution_count": null,
   "metadata": {
    "deletable": false,
    "id": "red_saga",
    "starter_code": "# Use your model to make a prediction on X_new\n# Don't need to answer: are your results similar to y_predict?\n",
    "state": "graded"
   },
   "outputs": [],
   "source": [
    "# Use your model to make a prediction on X_new\n",
    "# Don't need to answer: are your results similar to y_predict?\n"
   ]
  },
  {
   "cell_type": "markdown",
   "metadata": {
    "state": "normal"
   },
   "source": [
    "### Part3: Stochastic Gradient Descent"
   ]
  },
  {
   "cell_type": "code",
   "execution_count": 69,
   "metadata": {
    "deletable": false,
    "id": "aged_sol",
    "starter_code": "# Import the SGDRegressor class\nfrom sklearn.",
    "state": "graded"
   },
   "outputs": [],
   "source": [
    "# Import the SGDRegressor class\n",
    "from sklearn.linear_model import SGDRegressor\n",
    "from sklearn.pipeline import make_pipeline\n",
    "from sklearn.preprocessing import StandardScaler"
   ]
  },
  {
   "cell_type": "code",
   "execution_count": 102,
   "metadata": {
    "deletable": false,
    "id": "eager_mimir",
    "starter_code": "# Create an SGDRegressor with\n# Maximum number of iterations = 1000\n# Training stopping criterion of 1e-3 \n# Ridge regularization term\n# Initial learning rate of 0.001\nsgd_reg = ",
    "state": "graded"
   },
   "outputs": [],
   "source": [
    "# Create an SGDRegressor with\n",
    "# Maximum number of iterations = 1000\n",
    "# Training stopping criterion of 1e-3 \n",
    "# Ridge regularization term\n",
    "# Initial learning rate of 0.001\n",
    "sgd_reg = SGDRegressor(max_iter = 1000, tol=1e-3, eta0 = 0.01)"
   ]
  },
  {
   "cell_type": "code",
   "execution_count": 103,
   "metadata": {
    "deletable": false,
    "id": "gray_odin",
    "starter_code": "# Fit the model \n",
    "state": "graded"
   },
   "outputs": [
    {
     "name": "stderr",
     "output_type": "stream",
     "text": [
      "c:\\python38\\lib\\site-packages\\sklearn\\utils\\validation.py:63: DataConversionWarning: A column-vector y was passed when a 1d array was expected. Please change the shape of y to (n_samples, ), for example using ravel().\n",
      "  return f(*args, **kwargs)\n"
     ]
    },
    {
     "data": {
      "text/plain": [
       "SGDRegressor()"
      ]
     },
     "execution_count": 103,
     "metadata": {},
     "output_type": "execute_result"
    }
   ],
   "source": [
    "# Fit the model \n",
    "\n",
    "\n",
    "sgd_reg.fit(X, y)"
   ]
  },
  {
   "cell_type": "code",
   "execution_count": 104,
   "metadata": {
    "deletable": false,
    "id": "able_vali",
    "starter_code": "# Print the intercept\n",
    "state": "graded"
   },
   "outputs": [
    {
     "data": {
      "text/plain": [
       "array([3.94941612])"
      ]
     },
     "execution_count": 104,
     "metadata": {},
     "output_type": "execute_result"
    }
   ],
   "source": [
    "# Print the intercept\n",
    "sgd_reg.intercept_"
   ]
  },
  {
   "cell_type": "code",
   "execution_count": 105,
   "metadata": {
    "deletable": false,
    "id": "spicy_nott",
    "starter_code": "# Print the estimated coefficients\n",
    "state": "graded"
   },
   "outputs": [
    {
     "data": {
      "text/plain": [
       "array([3.1438469])"
      ]
     },
     "execution_count": 105,
     "metadata": {},
     "output_type": "execute_result"
    }
   ],
   "source": [
    "# Print the estimated coefficients\n",
    "sgd_reg.coef_"
   ]
  },
  {
   "cell_type": "markdown",
   "metadata": {
    "state": "normal"
   },
   "source": [
    "The intercept and coefficient should be close to the values of $\\hat{\\theta}$ found by the closed form solution in Part 1. If they're not, you can (optionally) change the regularization and learning rate until you find values that work better. "
   ]
  }
 ],
 "metadata": {
  "kernelspec": {
   "display_name": "Python 3",
   "language": "python",
   "name": "python3"
  },
  "language_info": {
   "codemirror_mode": {
    "name": "ipython",
    "version": 3
   },
   "file_extension": ".py",
   "mimetype": "text/x-python",
   "name": "python",
   "nbconvert_exporter": "python",
   "pygments_lexer": "ipython3",
   "version": "3.8.2"
  },
  "mimir": {
   "data": {},
   "last_submission_id": "",
   "project_id": "dfd2074c-02bf-4aac-8aa5-af16de004f02"
  },
  "varInspector": {
   "cols": {
    "lenName": 16,
    "lenType": 16,
    "lenVar": 40
   },
   "kernels_config": {
    "python": {
     "delete_cmd_postfix": "",
     "delete_cmd_prefix": "del ",
     "library": "var_list.py",
     "varRefreshCmd": "print(var_dic_list())"
    },
    "r": {
     "delete_cmd_postfix": ") ",
     "delete_cmd_prefix": "rm(",
     "library": "var_list.r",
     "varRefreshCmd": "cat(var_dic_list()) "
    }
   },
   "types_to_exclude": [
    "module",
    "function",
    "builtin_function_or_method",
    "instance",
    "_Feature"
   ],
   "window_display": false
  }
 },
 "nbformat": 4,
 "nbformat_minor": 2
}
