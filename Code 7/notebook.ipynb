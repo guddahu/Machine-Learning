{
 "cells": [
  {
   "cell_type": "markdown",
   "metadata": {
    "state": "normal"
   },
   "source": [
    "# Support Vector Machine (SVM)\n",
    "SVMs are powerful, versatile ML models, capable of performing linear or nonlinear classification, regression, and outlier detection. SVMs are useful for classification of complex but small/medium-sized datasets. "
   ]
  },
  {
   "cell_type": "markdown",
   "metadata": {
    "state": "normal"
   },
   "source": [
    "## Margin Classification Visualization\n",
    "The following pictures of the Iris dataset help explain the fundamental idea behind SVM: margins. \n",
    "\n",
    "The two classes are clearly linearly separable. The left plot shows decision boundaries of 3 possible linear classifiers: The green, dashed-line model is so bad it doesn't separate the classes properly. The other 2 models (red & purple lines) work perfectly on the training set, but their decision boundaries are so close to the data instances that these models will likely not generalize to new data well. \n",
    "\n",
    "The solid line in the right plot is the decision boundary of an SVM classifier. It separates the 2 classes while also staying as far away from the closest training instances as possible. Another way to think of the margin is that the SVM classifier is trying to fit the widest possible street (the parallel dashed lines) between the classes. This is *large margin classification*. "
   ]
  },
  {
   "cell_type": "code",
   "execution_count": 34,
   "metadata": {
    "state": "normal"
   },
   "outputs": [],
   "source": [
    "# Imports for graphing\n",
    "import matplotlib as mpl\n",
    "import matplotlib.pyplot as plt\n",
    "import numpy as np\n",
    "mpl.rc('axes', labelsize=14)\n",
    "mpl.rc('xtick', labelsize=12)\n",
    "mpl.rc('ytick', labelsize=12)\n"
   ]
  },
  {
   "cell_type": "code",
   "execution_count": 46,
   "metadata": {
    "state": "normal"
   },
   "outputs": [
    {
     "name": "stdout",
     "output_type": "stream",
     "text": [
      "[0 0 0 0 0 0 0 0 0 0 0 0 0 0 0 0 0 0 0 0 0 0 0 0 0 0 0 0 0 0 0 0 0 0 0 0 0\n",
      " 0 0 0 0 0 0 0 0 0 0 0 0 0 1 1 1 1 1 1 1 1 1 1 1 1 1 1 1 1 1 1 1 1 1 1 1 1\n",
      " 1 1 1 1 1 1 1 1 1 1 1 1 1 1 1 1 1 1 1 1 1 1 1 1 1 1 2 2 2 2 2 2 2 2 2 2 2\n",
      " 2 2 2 2 2 2 2 2 2 2 2 2 2 2 2 2 2 2 2 2 2 2 2 2 2 2 2 2 2 2 2 2 2 2 2 2 2\n",
      " 2 2]\n",
      "[0 0 0 0 0 0 0 0 0 0 0 0 0 0 0 0 0 0 0 0 0 0 0 0 0 0 0 0 0 0 0 0 0 0 0 0 0\n",
      " 0 0 0 0 0 0 0 0 0 0 0 0 0 1 1 1 1 1 1 1 1 1 1 1 1 1 1 1 1 1 1 1 1 1 1 1 1\n",
      " 1 1 1 1 1 1 1 1 1 1 1 1 1 1 1 1 1 1 1 1 1 1 1 1 1 1]\n"
     ]
    }
   ],
   "source": [
    "# Set up Iris dataset\n",
    "from sklearn import datasets\n",
    "\n",
    "iris = datasets.load_iris()\n",
    "X = iris[\"data\"][:, (2, 3)]  # petal length, petal width\n",
    "y = iris[\"target\"]\n",
    "\n",
    "print(y)\n",
    "setosa_or_versicolor = (y == 0) | (y == 1)\n",
    "X = X[setosa_or_versicolor]\n",
    "y = y[setosa_or_versicolor]\n",
    "print(y)\n"
   ]
  },
  {
   "cell_type": "code",
   "execution_count": 48,
   "metadata": {
    "deletable": false,
    "id": "high_magni",
    "starter_code": "# SVM Classifier \n# Scikit-Learn's SVC is based on libsvm (from HW)\nfrom sklearn.svm import SVC\n\n# Initialize an SVC class with the linear kernel and \"inf\" for C\nsvm_clf = \n\n# Fit the data above\nsvm_clf.",
    "state": "graded"
   },
   "outputs": [
    {
     "data": {
      "text/plain": [
       "SVC(C=inf, kernel='linear')"
      ]
     },
     "execution_count": 48,
     "metadata": {},
     "output_type": "execute_result"
    }
   ],
   "source": [
    "# SVM Classifier \n",
    "# Scikit-Learn's SVC is based on libsvm (from HW)\n",
    "from sklearn.svm import SVC\n",
    "import math\n",
    "# Initialize an SVC class with the linear kernel and \"inf\" for C\n",
    "svm_clf = SVC( kernel = \"linear\", C = math.inf)\n",
    "\n",
    "# Fit the data above\n",
    "svm_clf.fit(X, y)"
   ]
  },
  {
   "cell_type": "code",
   "execution_count": 49,
   "metadata": {
    "state": "normal"
   },
   "outputs": [
    {
     "data": {
      "image/png": "[encoded data removed]",
      "text/plain": [
       "<Figure size 720x194.4 with 2 Axes>"
      ]
     },
     "metadata": {
      "needs_background": "light"
     },
     "output_type": "display_data"
    }
   ],
   "source": [
    "# Bad models\n",
    "x0 = np.linspace(0, 5.5, 200)\n",
    "pred_1 = 5*x0 - 20\n",
    "pred_2 = x0 - 1.8\n",
    "pred_3 = 0.1 * x0 + 0.5\n",
    "\n",
    "def plot_svc_decision_boundary(svm_clf, xmin, xmax):\n",
    "    w = svm_clf.coef_[0]\n",
    "    b = svm_clf.intercept_[0]\n",
    "\n",
    "    # At the decision boundary, w0*x0 + w1*x1 + b = 0\n",
    "    # => x1 = -w0/w1 * x0 - b/w1\n",
    "    x0 = np.linspace(xmin, xmax, 200)\n",
    "    decision_boundary = -w[0]/w[1] * x0 - b/w[1]\n",
    "\n",
    "    margin = 1/w[1]\n",
    "    gutter_up = decision_boundary + margin\n",
    "    gutter_down = decision_boundary - margin\n",
    "\n",
    "    svs = svm_clf.support_vectors_\n",
    "    plt.scatter(svs[:, 0], svs[:, 1], s=180, facecolors='#FFAAAA')\n",
    "    plt.plot(x0, decision_boundary, \"k-\", linewidth=2)\n",
    "    plt.plot(x0, gutter_up, \"k--\", linewidth=2)\n",
    "    plt.plot(x0, gutter_down, \"k--\", linewidth=2)\n",
    "\n",
    "fig, axes = plt.subplots(ncols=2, figsize=(10,2.7), sharey=True)\n",
    "\n",
    "plt.sca(axes[0])\n",
    "plt.plot(x0, pred_1, \"g--\", linewidth=2)\n",
    "plt.plot(x0, pred_2, \"m-\", linewidth=2)\n",
    "plt.plot(x0, pred_3, \"r-\", linewidth=2)\n",
    "plt.plot(X[:, 0][y==1], X[:, 1][y==1], \"bs\", label=\"Iris versicolor\")\n",
    "plt.plot(X[:, 0][y==0], X[:, 1][y==0], \"yo\", label=\"Iris setosa\")\n",
    "plt.xlabel(\"Petal length\", fontsize=14)\n",
    "plt.ylabel(\"Petal width\", fontsize=14)\n",
    "plt.legend(loc=\"upper left\", fontsize=14)\n",
    "plt.axis([0, 5.5, 0, 2])\n",
    "\n",
    "plt.sca(axes[1])\n",
    "plot_svc_decision_boundary(svm_clf, 0, 5.5)\n",
    "plt.plot(X[:, 0][y==1], X[:, 1][y==1], \"bs\")\n",
    "plt.plot(X[:, 0][y==0], X[:, 1][y==0], \"yo\")\n",
    "plt.xlabel(\"Petal length\", fontsize=14)\n",
    "plt.axis([0, 5.5, 0, 2])\n",
    "\n",
    "plt.show()\n"
   ]
  },
  {
   "cell_type": "markdown",
   "metadata": {
    "state": "normal"
   },
   "source": [
    "In the right figure above notice that adding new training instances \"off the street\" won't affect the decision boundary. The SVM boundary is fully determined (or *supported*) by the instances located on the edges of the street. These supporting instances are called the *support vectors*. The 2 instances circled in light pink are the support vectors for this SVM example. "
   ]
  },
  {
   "cell_type": "markdown",
   "metadata": {
    "state": "normal"
   },
   "source": [
    "## Hard Margin vs. Soft Margin Classification\n",
    "**Hard Margin Classification:** If we strictly enforce that all instances must be \"off the street\" and on the correct sides, then this is hard margin classification. There are 2 main drawbacks with this approach: (1) it only works if the data is linearly separable and (2) it's very sensitive to outliers. \n",
    "\n",
    "**Soft Margin Classification:** To avoid those issues, we should use a more flexible model. The goal is to find a balance between keeping the street as large as possible and limiting *margin violations* (instances that could be in the middle of the street or on the wrong sides). \n",
    "\n",
    "**C Hyperparameter:** In Scikit-Learn's SVM classes, we control this balance with the **C** hyperparameter. Smaller C values give us a wider street (margin) with more margin violations. Higher C values lead to fewer margin violations but a smaller margin. \n"
   ]
  },
  {
   "cell_type": "markdown",
   "metadata": {
    "state": "normal"
   },
   "source": [
    "## Linear SVM Classification\n",
    "Steps: Load the Iris dataset, scale the features (because SVM is sensitive to the feature scales), and train a linear SVM model to detect Iris Virginica. "
   ]
  },
  {
   "cell_type": "code",
   "execution_count": 50,
   "metadata": {
    "state": "normal"
   },
   "outputs": [],
   "source": [
    "import numpy as np\n",
    "from sklearn import datasets\n",
    "from sklearn.pipeline import Pipeline\n",
    "from sklearn.preprocessing import StandardScaler\n",
    "from sklearn.svm import LinearSVC"
   ]
  },
  {
   "cell_type": "code",
   "execution_count": 51,
   "metadata": {
    "state": "normal"
   },
   "outputs": [],
   "source": [
    "# Load Iris dataset\n",
    "iris = datasets.load_iris()\n",
    "X = iris[\"data\"][:, (2, 3)]     # petal length, petal width\n",
    "y = (iris[\"target\"] == 2).astype(np.float64)     # Iris Virginica"
   ]
  },
  {
   "cell_type": "code",
   "execution_count": 52,
   "metadata": {
    "deletable": false,
    "id": "green_hel",
    "starter_code": "# We'll use the Pipeline class to scale our features & initialize our SVM\n# The general format for the Pipeline is:\n#      Pipeline([\n#          (\"arg1_name\", Arg1Constructor(...)), \n#          (\"arg2_name\", Arg2Constructor(...)),])\n\n\nsvm_clf = Pipeline([\n    # First create a \"scaler\" with the default StandardScaler\n (\"\", ),\n    # Second create a \"linear_svc\" with the LinearSVC class\n    #    where C = 1, the Hinge Loss function is used, and random state is 42\n    (\"\", ),\n])",
    "state": "graded"
   },
   "outputs": [],
   "source": [
    "# We'll use the Pipeline class to scale our features & initialize our SVM\n",
    "# The general format for the Pipeline is:\n",
    "#      Pipeline([\n",
    "#          (\"arg1_name\", Arg1Constructor(...)), \n",
    "#          (\"arg2_name\", Arg2Constructor(...)),])\n",
    "\n",
    "\n",
    "svm_clf = Pipeline([\n",
    "    # First create a \"scaler\" with the default StandardScaler\n",
    " ('standardscaler', StandardScaler()),\n",
    "    # Second create a \"linear_svc\" with the LinearSVC class\n",
    "    #    where C = 1, the Hinge Loss function is used, and random state is 42\n",
    "    ('linear_svc', LinearSVC(C = 1, random_state = 42, loss = 'hinge')),\n",
    "])"
   ]
  },
  {
   "cell_type": "code",
   "execution_count": 53,
   "metadata": {
    "deletable": false,
    "id": "able_oor",
    "starter_code": "# Fit the data\nsvm_clf.",
    "state": "graded"
   },
   "outputs": [
    {
     "data": {
      "text/plain": [
       "Pipeline(steps=[('standardscaler', StandardScaler()),\n",
       "                ('linear_svc', LinearSVC(C=1, loss='hinge', random_state=42))])"
      ]
     },
     "execution_count": 53,
     "metadata": {},
     "output_type": "execute_result"
    }
   ],
   "source": [
    "# Fit the data\n",
    "svm_clf.fit(X, y)"
   ]
  },
  {
   "cell_type": "code",
   "execution_count": 54,
   "metadata": {
    "deletable": false,
    "id": "blue_loki",
    "starter_code": "# Predict for the instance [5.5, 1.7]\n# Unlike LR classifiers, SVMs don't output probabilities for each class (unless specified before calling fit)\nsvm_clf.predict()",
    "state": "graded"
   },
   "outputs": [
    {
     "data": {
      "text/plain": [
       "array([1.])"
      ]
     },
     "execution_count": 54,
     "metadata": {},
     "output_type": "execute_result"
    }
   ],
   "source": [
    "# Predict for the instance [5.5, 1.7]\n",
    "# Unlike LR classifiers, SVMs don't output probabilities for each class (unless specified before calling fit)\n",
    "svm_clf.predict([[5.5, 1.7]])"
   ]
  },
  {
   "cell_type": "markdown",
   "metadata": {
    "state": "normal"
   },
   "source": [
    "### Generate Graphs Comparing Different Regularization Settings\n",
    "We'll just compare small and large values of C for this. Once you've plotted the graphs, notice the margin width, which data instances are support vectors, and how many support vectors are used. "
   ]
  },
  {
   "cell_type": "code",
   "execution_count": 55,
   "metadata": {
    "deletable": false,
    "id": "gray_oor",
    "starter_code": "scaler = StandardScaler()\n\n# Create 2 SVMs (LinearSVC)\n# svm_clf1 should use C = 1\n# svm_clf2 should use C = 100\n# Both SVMs should use Hinge Loss & random state 42\nsvm_clf1 = \nsvm_clf2 = ",
    "state": "graded"
   },
   "outputs": [],
   "source": [
    "scaler = StandardScaler()\n",
    "\n",
    "# Create 2 SVMs (LinearSVC)\n",
    "# svm_clf1 should use C = 1\n",
    "# svm_clf2 should use C = 100\n",
    "# Both SVMs should use Hinge Loss & random state 42\n",
    "svm_clf1 = LinearSVC(C = 1, random_state = 42, loss = 'hinge')\n",
    "svm_clf2 = LinearSVC(C = 100, random_state = 42, loss = 'hinge')"
   ]
  },
  {
   "cell_type": "code",
   "execution_count": 56,
   "metadata": {
    "state": "normal"
   },
   "outputs": [
    {
     "name": "stderr",
     "output_type": "stream",
     "text": [
      "c:\\users\\aditt\\appdata\\local\\programs\\python\\python39\\lib\\site-packages\\sklearn\\svm\\_base.py:985: ConvergenceWarning: Liblinear failed to converge, increase the number of iterations.\n",
      "  warnings.warn(\"Liblinear failed to converge, increase \"\n"
     ]
    },
    {
     "data": {
      "text/plain": [
       "Pipeline(steps=[('scaler', StandardScaler()),\n",
       "                ('linear_svc',\n",
       "                 LinearSVC(C=100, loss='hinge', random_state=42))])"
      ]
     },
     "execution_count": 56,
     "metadata": {},
     "output_type": "execute_result"
    }
   ],
   "source": [
    "# Pipelines to scale the data for the 2 SVMs\n",
    "scaled_svm_clf1 = Pipeline([\n",
    "        (\"scaler\", scaler),\n",
    "        (\"linear_svc\", svm_clf1),\n",
    "    ])\n",
    "scaled_svm_clf2 = Pipeline([\n",
    "        (\"scaler\", scaler),\n",
    "        (\"linear_svc\", svm_clf2),\n",
    "    ])\n",
    "\n",
    "# Fit the data\n",
    "scaled_svm_clf1.fit(X, y)\n",
    "scaled_svm_clf2.fit(X, y)"
   ]
  },
  {
   "cell_type": "code",
   "execution_count": 57,
   "metadata": {
    "state": "normal"
   },
   "outputs": [],
   "source": [
    "# Convert to unscaled parameters\n",
    "b1 = svm_clf1.decision_function([-scaler.mean_ / scaler.scale_])\n",
    "b2 = svm_clf2.decision_function([-scaler.mean_ / scaler.scale_])\n",
    "w1 = svm_clf1.coef_[0] / scaler.scale_\n",
    "w2 = svm_clf2.coef_[0] / scaler.scale_\n",
    "svm_clf1.intercept_ = np.array([b1])\n",
    "svm_clf2.intercept_ = np.array([b2])\n",
    "svm_clf1.coef_ = np.array([w1])\n",
    "svm_clf2.coef_ = np.array([w2])\n",
    "\n",
    "# Find support vectors (LinearSVC does not do this automatically)\n",
    "t = y * 2 - 1\n",
    "support_vectors_idx1 = (t * (X.dot(w1) + b1) < 1).ravel()\n",
    "support_vectors_idx2 = (t * (X.dot(w2) + b2) < 1).ravel()\n",
    "svm_clf1.support_vectors_ = X[support_vectors_idx1]\n",
    "svm_clf2.support_vectors_ = X[support_vectors_idx2]\n"
   ]
  },
  {
   "cell_type": "code",
   "execution_count": 58,
   "metadata": {
    "state": "normal"
   },
   "outputs": [
    {
     "data": {
      "text/plain": [
       "(4.0, 5.9, 0.8, 2.8)"
      ]
     },
     "execution_count": 58,
     "metadata": {},
     "output_type": "execute_result"
    },
    {
     "data": {
      "image/png": "[encoded data removed]",
      "text/plain": [
       "<Figure size 720x194.4 with 2 Axes>"
      ]
     },
     "metadata": {
      "needs_background": "light"
     },
     "output_type": "display_data"
    }
   ],
   "source": [
    "fig, axes = plt.subplots(ncols=2, figsize=(10,2.7), sharey=True)\n",
    "\n",
    "plt.sca(axes[0])\n",
    "plt.plot(X[:, 0][y==1], X[:, 1][y==1], \"g^\", label=\"Iris virginica\")\n",
    "plt.plot(X[:, 0][y==0], X[:, 1][y==0], \"bs\", label=\"Iris versicolor\")\n",
    "plot_svc_decision_boundary(svm_clf1, 4, 5.9)\n",
    "plt.xlabel(\"Petal length\", fontsize=14)\n",
    "plt.ylabel(\"Petal width\", fontsize=14)\n",
    "plt.legend(loc=\"upper left\", fontsize=14)\n",
    "plt.title(\"$C = {}$\".format(svm_clf1.C), fontsize=16)\n",
    "plt.axis([4, 5.9, 0.8, 2.8])\n",
    "\n",
    "plt.sca(axes[1])\n",
    "plt.plot(X[:, 0][y==1], X[:, 1][y==1], \"g^\")\n",
    "plt.plot(X[:, 0][y==0], X[:, 1][y==0], \"bs\")\n",
    "plot_svc_decision_boundary(svm_clf2, 4, 5.99)\n",
    "plt.xlabel(\"Petal length\", fontsize=14)\n",
    "plt.title(\"$C = {}$\".format(svm_clf2.C), fontsize=16)\n",
    "plt.axis([4, 5.9, 0.8, 2.8])\n"
   ]
  },
  {
   "cell_type": "markdown",
   "metadata": {
    "state": "normal"
   },
   "source": [
    "## Nonlinear SVM Classification\n",
    "Linear SVM classifiers are efficient and work well in many cases, however, many datasets are not linearly separable. One way to handle nonlinear datasets is to add more features (e.g., polynomial features) which might result in a linearly separable dataset. \n",
    "\n",
    "To implement this, you can use a *Pipeline* with a *PolynomialFeatures* transformer, followed by a *StandardScaler*, and *LinearSVC*. "
   ]
  },
  {
   "cell_type": "code",
   "execution_count": 59,
   "metadata": {
    "state": "normal"
   },
   "outputs": [],
   "source": [
    "from sklearn.datasets import make_moons\n",
    "from sklearn.preprocessing import PolynomialFeatures"
   ]
  },
  {
   "cell_type": "code",
   "execution_count": 61,
   "metadata": {
    "deletable": false,
    "id": "eager_saga",
    "starter_code": "# Create a Pipeline\n# First argument will be a PolynomialFeatures class of degree 3\n# Second argument will be a default StandardScaler\n# Third argument will be a LinearSVC with C = 10, Hinge Loss, and random state 42\npolynomial_svm_clf = Pipeline([\n        (\"poly_features\", ),\n        (\"scaler\", ),\n        (\"svm_clf\", )\n    ])\n\n# Fit the data\npolynomial_svm_clf.fit(X, y)",
    "state": "graded"
   },
   "outputs": [
    {
     "data": {
      "text/plain": [
       "Pipeline(steps=[('poly_features', PolynomialFeatures(degree=3)),\n",
       "                ('scaler', StandardScaler()),\n",
       "                ('svm_clf', LinearSVC(C=10, loss='hinge', random_state=42))])"
      ]
     },
     "execution_count": 61,
     "metadata": {},
     "output_type": "execute_result"
    }
   ],
   "source": [
    "# Create a Pipeline\n",
    "# First argument will be a PolynomialFeatures class of degree 3\n",
    "# Second argument will be a default StandardScaler\n",
    "# Third argument will be a LinearSVC with C = 10, Hinge Loss, and random state 42\n",
    "polynomial_svm_clf = Pipeline([\n",
    "        (\"poly_features\", PolynomialFeatures(3)),\n",
    "        (\"scaler\", StandardScaler()),\n",
    "        (\"svm_clf\",  LinearSVC(C = 10, random_state = 42, loss = 'hinge') )\n",
    "    ])\n",
    "\n",
    "# Fit the data\n",
    "polynomial_svm_clf.fit(X, y)"
   ]
  },
  {
   "cell_type": "code",
   "execution_count": 62,
   "metadata": {
    "state": "normal"
   },
   "outputs": [
    {
     "data": {
      "image/png": "[encoded data removed]",
      "text/plain": [
       "<Figure size 432x288 with 1 Axes>"
      ]
     },
     "metadata": {
      "needs_background": "light"
     },
     "output_type": "display_data"
    }
   ],
   "source": [
    "# Plot the dataset before classification\n",
    "X, y = make_moons(n_samples=100, noise=0.15, random_state=42)\n",
    "\n",
    "def plot_dataset(X, y, axes):\n",
    "    plt.plot(X[:, 0][y==0], X[:, 1][y==0], \"bs\")\n",
    "    plt.plot(X[:, 0][y==1], X[:, 1][y==1], \"g^\")\n",
    "    plt.axis(axes)\n",
    "    plt.grid(True, which='both')\n",
    "    plt.xlabel(r\"$x_1$\", fontsize=20)\n",
    "    plt.ylabel(r\"$x_2$\", fontsize=20, rotation=0)\n",
    "\n",
    "plot_dataset(X, y, [-1.5, 2.5, -1, 1.5])\n",
    "plt.show()"
   ]
  },
  {
   "cell_type": "code",
   "execution_count": 63,
   "metadata": {
    "state": "normal"
   },
   "outputs": [
    {
     "data": {
      "image/png": "[encoded data removed]",
      "text/plain": [
       "<Figure size 432x288 with 1 Axes>"
      ]
     },
     "metadata": {
      "needs_background": "light"
     },
     "output_type": "display_data"
    }
   ],
   "source": [
    "# Plot the dataset after classification with your polynomial_svm_clf\n",
    "def plot_predictions(clf, axes):\n",
    "    x0s = np.linspace(axes[0], axes[1], 100)\n",
    "    x1s = np.linspace(axes[2], axes[3], 100)\n",
    "    x0, x1 = np.meshgrid(x0s, x1s)\n",
    "    X = np.c_[x0.ravel(), x1.ravel()]\n",
    "    y_pred = clf.predict(X).reshape(x0.shape)\n",
    "    y_decision = clf.decision_function(X).reshape(x0.shape)\n",
    "    plt.contourf(x0, x1, y_pred, cmap=plt.cm.brg, alpha=0.2)\n",
    "    plt.contourf(x0, x1, y_decision, cmap=plt.cm.brg, alpha=0.1)\n",
    "\n",
    "plot_predictions(polynomial_svm_clf, [-1.5, 2.5, -1, 1.5])\n",
    "plot_dataset(X, y, [-1.5, 2.5, -1, 1.5])\n",
    "plt.show()"
   ]
  },
  {
   "cell_type": "markdown",
   "metadata": {
    "state": "normal"
   },
   "source": [
    "## Kernel Tricks\n",
    "You can add polynomial features to most ML algorithms, not just SVMs.  A low polynomial degree can't deal with very complex datasets and a high degree creates too many features, which makes the model too slow.\n",
    "\n",
    "For SVMs, we can apply the science-magic mathematical technique called the *kernel trick*. This will allow us to get the same results as if we had added many polynomial features (even very high degree polynomials), without having to actually add them. "
   ]
  },
  {
   "cell_type": "code",
   "execution_count": 64,
   "metadata": {
    "deletable": false,
    "id": "spicy_magni",
    "starter_code": "# Create a Pipeline\n# First class argument is a default StandardScaler\n# Second class argument is an SVC with the following parameters:\n#     \"poly\" kernel with degree 3, coef0 = 1, and C = 5\npoly_kernel_svm_clf = Pipeline([\n        (\"scaler\", ),\n        (\"svm_clf\", )\n    ])\n\n# Fit the data\npoly_kernel_svm_clf.fit(X, y)",
    "state": "graded"
   },
   "outputs": [
    {
     "data": {
      "text/plain": [
       "Pipeline(steps=[('scaler', StandardScaler()),\n",
       "                ('svm_clf', SVC(C=5, coef0=1, kernel='poly'))])"
      ]
     },
     "execution_count": 64,
     "metadata": {},
     "output_type": "execute_result"
    }
   ],
   "source": [
    "# Create a Pipeline\n",
    "# First class argument is a default StandardScaler\n",
    "# Second class argument is an SVC with the following parameters:\n",
    "#     \"poly\" kernel with degree 3, coef0 = 1, and C = 5\n",
    "poly_kernel_svm_clf = Pipeline([\n",
    "        (\"scaler\", StandardScaler()),\n",
    "        (\"svm_clf\", SVC(kernel = 'poly', C = 5,  coef0 = 1, degree = 3 ) )\n",
    "    ])\n",
    "\n",
    "# Fit the data\n",
    "poly_kernel_svm_clf.fit(X, y)"
   ]
  },
  {
   "cell_type": "code",
   "execution_count": 66,
   "metadata": {
    "deletable": false,
    "id": "tiny_vali",
    "starter_code": "# Create a similar Pipeline\n# Just change the SVC to use a 10th-degree polynomial & coef0 = 100\npoly100_kernel_svm_clf = Pipeline([\n        (\"scaler\", ),\n        (\"svm_clf\", )\n    ])\n\n# Fit the data\npoly100_kernel_svm_clf.fit(X, y)",
    "state": "graded"
   },
   "outputs": [
    {
     "data": {
      "text/plain": [
       "Pipeline(steps=[('scaler', StandardScaler()),\n",
       "                ('svm_clf', SVC(C=5, coef0=100, degree=10, kernel='poly'))])"
      ]
     },
     "execution_count": 66,
     "metadata": {},
     "output_type": "execute_result"
    }
   ],
   "source": [
    "# Create a similar Pipeline\n",
    "# Just change the SVC to use a 10th-degree polynomial & coef0 = 100\n",
    "poly100_kernel_svm_clf = Pipeline([\n",
    "(\"scaler\", StandardScaler()),\n",
    "        (\"svm_clf\", SVC(kernel = 'poly', C = 5,  coef0 = 100, degree = 10 ) )\n",
    "    ])\n",
    "\n",
    "# Fit the data\n",
    "poly100_kernel_svm_clf.fit(X, y)"
   ]
  },
  {
   "cell_type": "code",
   "execution_count": 67,
   "metadata": {
    "state": "normal"
   },
   "outputs": [
    {
     "data": {
      "image/png": "[encoded data removed]",
      "text/plain": [
       "<Figure size 756x288 with 2 Axes>"
      ]
     },
     "metadata": {
      "needs_background": "light"
     },
     "output_type": "display_data"
    }
   ],
   "source": [
    "# Visualize the difference between kernels with different polynomial degrees\n",
    "fig, axes = plt.subplots(ncols=2, figsize=(10.5, 4), sharey=True)\n",
    "\n",
    "plt.sca(axes[0])\n",
    "plot_predictions(poly_kernel_svm_clf, [-1.5, 2.45, -1, 1.5])\n",
    "plot_dataset(X, y, [-1.5, 2.4, -1, 1.5])\n",
    "plt.title(r\"$d=3, r=1, C=5$\", fontsize=18)\n",
    "\n",
    "plt.sca(axes[1])\n",
    "plot_predictions(poly100_kernel_svm_clf, [-1.5, 2.45, -1, 1.5])\n",
    "plot_dataset(X, y, [-1.5, 2.4, -1, 1.5])\n",
    "plt.title(r\"$d=10, r=100, C=5$\", fontsize=18)\n",
    "plt.ylabel(\"\")\n",
    "\n",
    "plt.show()"
   ]
  },
  {
   "cell_type": "markdown",
   "metadata": {
    "state": "normal"
   },
   "source": [
    "### Gaussian Radial Basis Function (RBF) Kernel\n",
    "Another technique for nonlinear problems is to add features computed using a *similarity function* that measures how much each instance resembles a particular *landmark*. Similar to the polynomial features method, the similarity features method can be useful with any ML algorithm. However, it can become computationally expensive to compute extra features, especially on a large training dataset. \n",
    "\n",
    "We can use the SVM kernel to get a similar result as though we had added many similarity features, but without actually having to add them. \n",
    "\n",
    "Scikit-Learn's SVC class has the \"rbf\" kernel. The two main hyperparameters are *C* and $\\gamma$ which makes the bell-shape curve (of the Gaussian/normal distribution) narrower. This causes each instance's range of influence to become smaller and the decision boundary ends up more irregular. A small $\\gamma$ value makes the bell-shaped curve wider, so instances have a larger range of influence, which causes the decision boundary to be smoother. Essentially, $\\gamma$ acts like a regularization parameter: if you're overfitting, reduce $\\gamma$; if you're underfitting, increase $\\gamma$. "
   ]
  },
  {
   "cell_type": "code",
   "execution_count": 68,
   "metadata": {
    "deletable": false,
    "id": "big_loki",
    "starter_code": "# Create a Pipeline\n# First class argument should be a default StandardScaler\n# Second argument should be an SVC with the RBF kernel and\n#      with hyperparameters: gamma = 5 and C = 0.001\n\nrbf_kernel_svm_clf = Pipeline([\n        (\"scaler\", ),\n        (\"svm_clf\", )\n    ])\n\n# Fit the data\nrbf_kernel_svm_clf.fit(X, y)",
    "state": "graded"
   },
   "outputs": [
    {
     "data": {
      "text/plain": [
       "Pipeline(steps=[('scaler', StandardScaler()),\n",
       "                ('svm_clf', SVC(C=0.001, gamma=5))])"
      ]
     },
     "execution_count": 68,
     "metadata": {},
     "output_type": "execute_result"
    }
   ],
   "source": [
    "# Create a Pipeline\n",
    "# First class argument should be a default StandardScaler\n",
    "# Second argument should be an SVC with the RBF kernel and\n",
    "#      with hyperparameters: gamma = 5 and C = 0.001\n",
    "\n",
    "rbf_kernel_svm_clf = Pipeline([\n",
    "        (\"scaler\", StandardScaler()),\n",
    "        (\"svm_clf\",  SVC(gamma=5, C = 0.001, kernel = 'rbf'))\n",
    "    ])\n",
    "\n",
    "# Fit the data\n",
    "rbf_kernel_svm_clf.fit(X, y)"
   ]
  },
  {
   "cell_type": "markdown",
   "metadata": {
    "state": "normal"
   },
   "source": [
    "## SVM Regression\n",
    "SVM works for both linear and nonlinear classification and regression. For SVM regression, you reverse the objective: instead of trying to fit the largest possible margin between 2 classes while limiting margin violations, SVM regression tries to fit as many instances as possible *on* the margin while limiting margin violations. \n",
    "\n",
    "Scikit-Learn's *SVR* class supports the kernel trick. *LinearSVR* is the regression equivalent of the *LinearSVC* class. The hyperparameter $\\epsilon$ controls the width of the margin.  "
   ]
  },
  {
   "cell_type": "code",
   "execution_count": 70,
   "metadata": {
    "deletable": false,
    "id": "aged_loki",
    "starter_code": "# Perform linear SVM regression\nfrom sklearn.svm import LinearSVR\n\n# Create a LinearSVR with an epsilon of 1.5\nsvm_reg = \n\n# Fit the data X, y\nsvm_reg.",
    "state": "graded"
   },
   "outputs": [
    {
     "data": {
      "text/plain": [
       "LinearSVR(epsilon=1.5)"
      ]
     },
     "execution_count": 70,
     "metadata": {},
     "output_type": "execute_result"
    }
   ],
   "source": [
    "# Perform linear SVM regression\n",
    "from sklearn.svm import LinearSVR\n",
    "\n",
    "# Create a LinearSVR with an epsilon of 1.5\n",
    "svm_reg = LinearSVR(epsilon = 1.5)\n",
    "\n",
    "# Fit the data X, y\n",
    "svm_reg.fit(X,y)"
   ]
  },
  {
   "cell_type": "code",
   "execution_count": 73,
   "metadata": {
    "deletable": false,
    "id": "green_mani",
    "starter_code": "# Perform nonlinear SVM regression\nfrom sklearn.svm import SVR\n\n# Create an SVR with a 2nd-degree polynomial kernel &\n#     C = 100 & epsilon = 0.1\nsvm_poly_reg = \n\n# Fit the data X, y\nsvm_poly_reg.",
    "state": "graded"
   },
   "outputs": [
    {
     "data": {
      "text/plain": [
       "SVR(C=100, degree=2)"
      ]
     },
     "execution_count": 73,
     "metadata": {},
     "output_type": "execute_result"
    }
   ],
   "source": [
    "# Perform nonlinear SVM regression\n",
    "from sklearn.svm import SVR\n",
    "\n",
    "# Create an SVR with a 2nd-degree polynomial kernel &\n",
    "#     C = 100 & epsilon = 0.1\n",
    "svm_poly_reg = SVR(epsilon = 0.1, C = 100, degree = 2)\n",
    "\n",
    "# Fit the data X, y\n",
    "svm_poly_reg.fit(X, y)"
   ]
  },
  {
   "cell_type": "code",
   "execution_count": null,
   "metadata": {
    "state": "normal"
   },
   "outputs": [],
   "source": [
    "# "
   ]
  }
 ],
 "metadata": {
  "kernelspec": {
   "display_name": "Python 3",
   "language": "python",
   "name": "python3"
  },
  "language_info": {
   "codemirror_mode": {
    "name": "ipython",
    "version": 3
   },
   "file_extension": ".py",
   "mimetype": "text/x-python",
   "name": "python",
   "nbconvert_exporter": "python",
   "pygments_lexer": "ipython3",
   "version": "3.9.2"
  },
  "mimir": {
   "data": {},
   "last_submission_id": "",
   "project_id": "66026828-dafa-4fe9-80c4-5dfbca701ecc"
  },
  "varInspector": {
   "cols": {
    "lenName": 16,
    "lenType": 16,
    "lenVar": 40
   },
   "kernels_config": {
    "python": {
     "delete_cmd_postfix": "",
     "delete_cmd_prefix": "del ",
     "library": "var_list.py",
     "varRefreshCmd": "print(var_dic_list())"
    },
    "r": {
     "delete_cmd_postfix": ") ",
     "delete_cmd_prefix": "rm(",
     "library": "var_list.r",
     "varRefreshCmd": "cat(var_dic_list()) "
    }
   },
   "types_to_exclude": [
    "module",
    "function",
    "builtin_function_or_method",
    "instance",
    "_Feature"
   ],
   "window_display": false
  }
 },
 "nbformat": 4,
 "nbformat_minor": 2
}
